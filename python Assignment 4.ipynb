{
 "cells": [
  {
   "cell_type": "code",
   "execution_count": 19,
   "metadata": {},
   "outputs": [
    {
     "data": {
      "text/plain": [
       "48.0"
      ]
     },
     "execution_count": 19,
     "metadata": {},
     "output_type": "execute_result"
    }
   ],
   "source": [
    "# 1.1 Write a Python Program(with class concepts) to find the area of the triangle using the below\n",
    "# formula.\n",
    "# area = (s*(s-a)*(s-b)*(s-c)) ** 0.5\n",
    "# Function to take the length of the sides of triangle from user should be defined in the parent\n",
    "# class and function to calculate the area should be defined in subclass.\n",
    "\n",
    "class triangle_perimeter():\n",
    "    def __init__(self,a,b,c):\n",
    "        self.a=a\n",
    "        self.b=b\n",
    "        self.c=c\n",
    "    def perimeter_triangle(self):\n",
    "        return (self.a+self.b+self.c)/2\n",
    "    \n",
    "class area_triangle(triangle_perimeter):\n",
    "    def area(self):\n",
    "        s=triangle_perimeter.perimeter_triangle(self)\n",
    "        area = (s*(s-self.a)*(s-self.b)*(s-self.c)) ** 0.5\n",
    "        return area\n",
    "\n",
    "obj1=area_triangle(10,12,10)\n",
    "obj1.area()"
   ]
  },
  {
   "cell_type": "code",
   "execution_count": 27,
   "metadata": {},
   "outputs": [
    {
     "data": {
      "text/plain": [
       "['democratic country', 'data science']"
      ]
     },
     "execution_count": 27,
     "metadata": {},
     "output_type": "execute_result"
    }
   ],
   "source": [
    "#1.2 Write a function filter_long_words() that takes a list of words and an integer n and returns\n",
    "#the list of words that are longer than n.\n",
    "\n",
    "def filter_long_words(list_of_words,number):\n",
    "    new_list_of_words=[]\n",
    "    for i in list_of_words:\n",
    "        if(len(i)>number):\n",
    "            new_list_of_words.append(i)\n",
    "    return new_list_of_words\n",
    "    \n",
    "filter_long_words([\"secularism\",\"democratic country\",\"positivity\",\"data science\"],10)"
   ]
  },
  {
   "cell_type": "code",
   "execution_count": 31,
   "metadata": {},
   "outputs": [
    {
     "data": {
      "text/plain": [
       "[2, 5, 4]"
      ]
     },
     "execution_count": 31,
     "metadata": {},
     "output_type": "execute_result"
    }
   ],
   "source": [
    "# 2.1 Write a Python program using function concept that maps list of words into a list of integers\n",
    "# representing the lengths of the corresponding words.\n",
    "# Hint: If a list [ ab,cde,erty] is passed on to the python function output should come as [2,3,4]\n",
    "# Here 2,3 and 4 are the lengths of the words in the list.\n",
    "\n",
    "def cvt_to_list_of_integers(in_list):\n",
    "    out_list=[]\n",
    "    for i in in_list:\n",
    "        out_list.append(len(i))\n",
    "    return out_list    \n",
    "        \n",
    "cvt_to_list_of_integers(['ab','cd  e','erty'])\n"
   ]
  },
  {
   "cell_type": "code",
   "execution_count": 35,
   "metadata": {},
   "outputs": [
    {
     "data": {
      "text/plain": [
       "'Yay!! Its a Vowel'"
      ]
     },
     "execution_count": 35,
     "metadata": {},
     "output_type": "execute_result"
    }
   ],
   "source": [
    "# 2.2 Write a Python function which takes a character (i.e. a string of length 1) and returns True if\n",
    "# it is a vowel, False otherwise.\n",
    "\n",
    "def is_vowel(in_char):\n",
    "    vowels=['a','e','i','o','u']\n",
    "    if(in_char.lower() in vowels):\n",
    "        return \"Yay!! Its a Vowel\"\n",
    "    else:\n",
    "        return \"Its a consonent\"\n",
    "    \n",
    "is_vowel('E') \n",
    "is_vowel('a') "
   ]
  },
  {
   "cell_type": "code",
   "execution_count": null,
   "metadata": {},
   "outputs": [],
   "source": []
  }
 ],
 "metadata": {
  "kernelspec": {
   "display_name": "Python 3",
   "language": "python",
   "name": "python3"
  },
  "language_info": {
   "codemirror_mode": {
    "name": "ipython",
    "version": 3
   },
   "file_extension": ".py",
   "mimetype": "text/x-python",
   "name": "python",
   "nbconvert_exporter": "python",
   "pygments_lexer": "ipython3",
   "version": "3.7.4"
  }
 },
 "nbformat": 4,
 "nbformat_minor": 2
}
